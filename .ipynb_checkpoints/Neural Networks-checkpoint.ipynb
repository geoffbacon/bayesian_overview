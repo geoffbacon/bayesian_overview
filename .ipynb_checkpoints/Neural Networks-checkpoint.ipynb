{
 "cells": [
  {
   "cell_type": "markdown",
   "metadata": {},
   "source": [
    "# Neural Networks: There and Back Again...and Again...and Again"
   ]
  },
  {
   "cell_type": "markdown",
   "metadata": {},
   "source": [
    "We talked last week about how Support Vector Machines were supposed to revolutionize machine learning when they first came out, but are hardly talked about anymore. The algorithm that is actually revolutionizing machine learning is the neural network. The nice thing about Support Vector Machines is that they can be used to create nonlinear classification boundaries. They do this by transforming the input data to a space where the boundary is linear and then untransforming the predicted boundary. Thus, it automates feature engineering for you. Neural Nets also do this, but in a much more straight forward way:"
   ]
  },
  {
   "cell_type": "markdown",
   "metadata": {},
   "source": [
    "<img src=\"http://cs231n.github.io/assets/nn1/neural_net2.jpeg\">\n",
    "Taken from the MIT CS231n <a href=\"http://cs231n.github.io/neural-networks-1/\">course page</a>. <a href=\"https://github.com/cs231n/cs231n.github.io/blob/master/LICENSE\">LICENSE</a>."
   ]
  },
  {
   "cell_type": "markdown",
   "metadata": {},
   "source": [
    "Each circle in the diagram is called a neuron or node. Each feature in your input data gets a node. Each class in your output gets a node. In the above picture, there are two outputs, so it's a binary classification problem. To get from the input to the output you go through any number of hidden layers with any number of nodes; the numbers are hyperparameters. You can see that all the input nodes contribute to each hidden layer node somehow. The weights for how much each input contributes are the parameters to be optimized. It's called a hidden layer because the user doesn't get to see the parameters without purposefully looking for them. Thus, feature engineering is automated."
   ]
  },
  {
   "cell_type": "markdown",
   "metadata": {},
   "source": [
    "Neural nets are mainly used for classification, so that's the problem I'm going to focus on. I'll explain how it can be modified later."
   ]
  },
  {
   "cell_type": "markdown",
   "metadata": {},
   "source": [
    "## Matrix Multiplication: A Review"
   ]
  },
  {
   "cell_type": "markdown",
   "metadata": {},
   "source": [
    "When trying to figure out how to code an algorithm, it is helpful to keep track of all the dimensions of the matrices and vectors you're working with. Remember what happens with the dimensions:\n",
    "$$ [n \\times m][m \\times p] = [n \\times p] $$\n",
    "The inner two dimensions have to be the same; the operation is not defined otherwise. The product matrix then takes the outer dimensions. For example, take these two vectors (1D matrices):\n",
    "$$ \\mathbf{A} =  \\begin{bmatrix}\n",
    "                    a_1 \\newline a_2 \\newline a_3\n",
    "                 \\end{bmatrix},\n",
    "\\mathbf{B} = \\begin{bmatrix}\n",
    "                b_1 \\newline b_2 \\newline b_3\n",
    "             \\end{bmatrix} $$\n",
    "They are both $[3 \\times 1]$ vectors. They can't be multiplied together as is, but if you take the transpose of one, they can be. This gives us two possibilities:\n",
    "$$ \\mathbf{A^TB} = a_1b_1 + a_2b_2 + a_3b_3 \\\\\n",
    "   \\mathbf{AB^T} = \\begin{bmatrix}\n",
    "                        a_1b_1 & a_1b_2 & a_1b_3 \\\\\n",
    "                        a_2b_1 & a_2b_2 & a_2b_3 \\\\\n",
    "                        a_3b_1 & a_3b_2 & a_3b_3\n",
    "                   \\end{bmatrix} \\\\ $$\n",
    "Notice that the answers are quite different."
   ]
  },
  {
   "cell_type": "markdown",
   "metadata": {},
   "source": [
    "This is what the above looks like as a summation:\n",
    "$$ (\\mathbf{AB})_{ij} = \\sum_{k=1}^m A_{ik}B_{kj} $$\n",
    "where $i$ goes from 1 to $n$ and $j$ goes from 1 to $p$."
   ]
  },
  {
   "cell_type": "markdown",
   "metadata": {},
   "source": [
    "## Binary Logistic Regression: A Review"
   ]
  },
  {
   "cell_type": "markdown",
   "metadata": {},
   "source": [
    "First, let's review the math behind binary logistic regression. I'll be using the notation from <a href=\"https://www.coursera.org/learn/machine-learning/home/welcome\">Machine Learning by Andrew Ng</a> on Coursera, except for one change. I'm going to treat the parameter and feature vectors as row vectors, while Andrew Ng treats them as column vectors."
   ]
  },
  {
   "cell_type": "markdown",
   "metadata": {},
   "source": [
    "So, we have a binary classification problem with classes 0 and 1. You have a hypothesis about your data, $ h_{\\theta}(x) $, which is the probability that the item with feature $x$ is in class 1. The probability of class 0 is $1 - h_{\\theta}(x) $. What does this hypothesis look like? We need a function that can take any real number and squish it into the interval [0,1]. This is called the activation function. One such function is the sigmoid, or logistic, function:\n",
    "$$ g(z) = \\frac {1}{1+e^{-z}} $$\n",
    "<img src=\"http://cs231n.github.io/assets/nn1/sigmoid.jpeg\">\n",
    "Taken from the MIT CS231n <a href=\"http://cs231n.github.io/neural-networks-1/\">course page</a>. <a href=\"https://github.com/cs231n/cs231n.github.io/blob/master/LICENSE\">LICENSE</a>."
   ]
  },
  {
   "cell_type": "markdown",
   "metadata": {},
   "source": [
    "When $ h_{\\theta}(x) = g(z) \\geq 0.5$, we predict class 1. When $ h_{\\theta}(x) = g(z) < 0.5$, we predict class 0. Well, what is $z$? If we have $n$ features:\n",
    "$$ z = \\theta_0 + \\theta_1x_1 + ... + \\theta_nx_n = \\begin{bmatrix}1(=x_0) &  x_1 &  ...  \\hspace{2em}  x_n\\end{bmatrix}\\begin{bmatrix} \\theta_0 \\newline \\theta_1 \\newline \\vdots \\newline \\theta_n\\end{bmatrix}= \\boldsymbol{x \\theta}^T $$\n",
    "where $\\theta$ and $x$ are column vectors. $\\theta$ are the parameters to optimize. $\\theta_0$ is called the bias term and it acts much like an intercept term in linear regression. Just like $b$ allows you to shift a line along the y axis, $\\theta_0$ allows the activation function to shift to get a better fit."
   ]
  },
  {
   "cell_type": "markdown",
   "metadata": {},
   "source": [
    "The cost function for this problem is:\n",
    "$$ J(\\boldsymbol{\\theta}) = - \\frac{1}{m} \\displaystyle \\sum_{i=1}^m [y^{(i)}\\log (h_\\theta (\\mathbf{x}^{(i)})) + (1 - y^{(i)})\\log (1 - h_\\theta(\\mathbf{x}^{(i)}))] $$\n",
    "where $m$ is the number of observations. Basically, if you think about a DataFrame, $i$ is the row and $m$ is the total number of rows. Then $\\mathbf{x}$ is $[m \\times n]$ (without the added bias variable) and $\\mathbf{y}$ is $[m \\times 1]$. In vectorized notation, this is:\n",
    "$$ J(\\boldsymbol{\\theta}) = - \\frac{1}{m} [\\mathbf{y}^T \\log (g(\\boldsymbol{x \\theta}^T)) + (\\mathbf{1 - y}^T) \\log (g(1 - \\boldsymbol{x \\theta}^T))] $$"
   ]
  },
  {
   "cell_type": "markdown",
   "metadata": {},
   "source": [
    "You can also add a regularization term:\n",
    "$$ J(\\boldsymbol{\\theta}) = - \\frac{1}{m} \\displaystyle \\sum_{i=1}^m [y^{(i)}\\log (h_\\theta (\\mathbf{x}^{(i)})) + (1 - y^{(i)})\\log (1 - h_\\theta(\\mathbf{x}^{(i)}))] + \\frac{\\lambda}{2m} \\sum^{n}_{j=1} \\theta_j$$\n",
    "**Note:** The bias term is not included!!!  \n",
    "\n",
    "And in vector notation:\n",
    "$$ J(\\boldsymbol{\\theta}) = - \\frac{1}{m} [\\mathbf{y}^T \\log (g(\\boldsymbol{x \\theta}^T)) + (\\mathbf{1 - y}^T) \\log (g(1 - \\boldsymbol{x \\theta}^T))] + \\frac{\\lambda}{2m}\\boldsymbol\\theta_{j \\neq 0}\\boldsymbol\\theta_{j \\neq 0}^T$$"
   ]
  },
  {
   "cell_type": "markdown",
   "metadata": {},
   "source": [
    "Then you can minimize the cost function with the solver of your choice. Often times, the solver asks for a cost function and a derivative, so here's the derivative:\n",
    "$$ \\frac{\\partial}{\\partial\\boldsymbol{\\theta}} J(\\boldsymbol{\\theta}) = \\frac{1}{m} \\sum_{i=1}^m  (h_\\theta(\\mathbf{x}^{(i)}) - y^{(i)}) \\mathbf{x}_j^{(i)} \\\\\n",
    "= \\frac{1}{m} \\mathbf{x}^T(g(\\boldsymbol{x \\theta}^T - \\mathbf{y}))\n",
    "$$\n",
    "Note that there are $n+1$ derivatives, one for each feature and one for the bias term. To add regularization to this, add $ \\frac {\\lambda}{m}\\theta_j $ to the jth derivative, except for the bias term. Don't add anything to the bias term. There's really not a good way to notate this."
   ]
  },
  {
   "cell_type": "markdown",
   "metadata": {},
   "source": [
    "The easiest solver to use is gradient descent and it's exactly what it sounds like. If you imagine a graph of the cost function vs the parameters, the minimum is the bottom of the valley in the graph. You have to descend the slope, or gradient, to get there."
   ]
  },
  {
   "cell_type": "markdown",
   "metadata": {},
   "source": [
    "<img src=\"https://upload.wikimedia.org/wikipedia/commons/5/5b/Gradient_descent_method.png\">\n",
    "By Роман Сузи (Сгенерирован программой, повернут вручную) [GFDL (http://www.gnu.org/copyleft/fdl.html) or CC BY-SA 3.0 (http://creativecommons.org/licenses/by-sa/3.0)], via Wikimedia Commons"
   ]
  },
  {
   "cell_type": "markdown",
   "metadata": {},
   "source": [
    "To implement the algorithm, the estimates for $\\boldsymbol\\theta$ are updated according to their gradients, the cost function is recalculated, and this is repeated until convergence. Here are the equations for updating $\\boldsymbol\\theta$:\n",
    "$$ \\theta_j := \\theta_j - \\alpha \\frac{\\partial}{\\partial \\theta_j} J(\\boldsymbol\\theta) $$\n",
    "$\\alpha$ is called the learning rate, and it's a hyperparameter that determines how fast the algorithm converges. If it is too large, the algorithm could keep missing the minimum and never converge. If it's too small, the algorithm could take a long time to converge."
   ]
  },
  {
   "cell_type": "markdown",
   "metadata": {},
   "source": [
    "## Breakfast: Neural Nets from scratch\n",
    "Neural nets just apply logistic regression at every neuron past the input layer. To keep things simple, I'm going to stick with a binary classification problem modified from <a href=\"http://www.wildml.com/2015/09/implementing-a-neural-network-from-scratch/\">this</a> blog post. So, let's use scikit learn's <a href=\"http://scikit-learn.org/stable/modules/generated/sklearn.datasets.make_moons.html\">```make_moons()```</a> function to get some binary data."
   ]
  },
  {
   "cell_type": "code",
   "execution_count": 1,
   "metadata": {
    "collapsed": true
   },
   "outputs": [],
   "source": [
    "%matplotlib inline"
   ]
  },
  {
   "cell_type": "code",
   "execution_count": 2,
   "metadata": {
    "collapsed": false
   },
   "outputs": [],
   "source": [
    "import sklearn.datasets\n",
    "import matplotlib.pyplot as plt\n",
    "import numpy as np\n",
    "import pandas as pd"
   ]
  },
  {
   "cell_type": "code",
   "execution_count": 3,
   "metadata": {
    "collapsed": true
   },
   "outputs": [],
   "source": [
    "# Generate a dataset\n",
    "np.random.seed(0)\n",
    "X, y = sklearn.datasets.make_moons(200, noise=0.20)"
   ]
  },
  {
   "cell_type": "code",
   "execution_count": 4,
   "metadata": {
    "collapsed": false,
    "scrolled": true
   },
   "outputs": [
    {
     "data": {
      "text/plain": [
       "(200, 2)"
      ]
     },
     "execution_count": 4,
     "metadata": {},
     "output_type": "execute_result"
    }
   ],
   "source": [
    "m, n = X.shape\n",
    "X.shape"
   ]
  },
  {
   "cell_type": "markdown",
   "metadata": {},
   "source": [
    "So we have 200 observations and 2 features."
   ]
  },
  {
   "cell_type": "code",
   "execution_count": 5,
   "metadata": {
    "collapsed": false,
    "scrolled": true
   },
   "outputs": [
    {
     "data": {
      "text/plain": [
       "(200,)"
      ]
     },
     "execution_count": 5,
     "metadata": {},
     "output_type": "execute_result"
    }
   ],
   "source": [
    "y.shape"
   ]
  },
  {
   "cell_type": "markdown",
   "metadata": {},
   "source": [
    "Note that numpy doesn't distinguish between row and column vectors by default. Everything is just a 1D array. This could get confusing when delving into the math, so let's turn it into a column vector."
   ]
  },
  {
   "cell_type": "code",
   "execution_count": 6,
   "metadata": {
    "collapsed": false
   },
   "outputs": [
    {
     "data": {
      "text/plain": [
       "(200, 1)"
      ]
     },
     "execution_count": 6,
     "metadata": {},
     "output_type": "execute_result"
    }
   ],
   "source": [
    "y = np.reshape(y, (200,1))\n",
    "y.shape"
   ]
  },
  {
   "cell_type": "code",
   "execution_count": 7,
   "metadata": {
    "collapsed": false
   },
   "outputs": [
    {
     "data": {
      "text/html": [
       "<div>\n",
       "<table border=\"1\" class=\"dataframe\">\n",
       "  <thead>\n",
       "    <tr style=\"text-align: right;\">\n",
       "      <th></th>\n",
       "      <th>Height</th>\n",
       "      <th>Daily Caloric Intake</th>\n",
       "      <th>Hobbit?</th>\n",
       "    </tr>\n",
       "  </thead>\n",
       "  <tbody>\n",
       "    <tr>\n",
       "      <th>0</th>\n",
       "      <td>0.743461</td>\n",
       "      <td>0.464656</td>\n",
       "      <td>0</td>\n",
       "    </tr>\n",
       "    <tr>\n",
       "      <th>1</th>\n",
       "      <td>1.657557</td>\n",
       "      <td>-0.632032</td>\n",
       "      <td>1</td>\n",
       "    </tr>\n",
       "    <tr>\n",
       "      <th>2</th>\n",
       "      <td>-0.158789</td>\n",
       "      <td>0.255845</td>\n",
       "      <td>1</td>\n",
       "    </tr>\n",
       "    <tr>\n",
       "      <th>3</th>\n",
       "      <td>-1.088752</td>\n",
       "      <td>-0.396943</td>\n",
       "      <td>0</td>\n",
       "    </tr>\n",
       "    <tr>\n",
       "      <th>4</th>\n",
       "      <td>1.768052</td>\n",
       "      <td>-0.254432</td>\n",
       "      <td>1</td>\n",
       "    </tr>\n",
       "  </tbody>\n",
       "</table>\n",
       "</div>"
      ],
      "text/plain": [
       "     Height  Daily Caloric Intake  Hobbit?\n",
       "0  0.743461              0.464656        0\n",
       "1  1.657557             -0.632032        1\n",
       "2 -0.158789              0.255845        1\n",
       "3 -1.088752             -0.396943        0\n",
       "4  1.768052             -0.254432        1"
      ]
     },
     "execution_count": 7,
     "metadata": {},
     "output_type": "execute_result"
    }
   ],
   "source": [
    "# here's what it might look like in a DataFrame\n",
    "data = np.column_stack((X, y))\n",
    "data = pd.DataFrame(data, columns=[\"Height\", \"Daily Caloric Intake\", \"Hobbit?\"])\n",
    "data[\"Hobbit?\"] = data[\"Hobbit?\"].astype(int)\n",
    "data.head()"
   ]
  },
  {
   "cell_type": "code",
   "execution_count": 8,
   "metadata": {
    "collapsed": false,
    "scrolled": true
   },
   "outputs": [
    {
     "data": {
      "text/plain": [
       "<matplotlib.collections.PathCollection at 0x1150d60f0>"
      ]
     },
     "execution_count": 8,
     "metadata": {},
     "output_type": "execute_result"
    },
    {
     "data": {
      "image/png": "[encoded data removed]",
      "text/plain": [
       "<matplotlib.figure.Figure at 0x1150d6358>"
      ]
     },
     "metadata": {},
     "output_type": "display_data"
    }
   ],
   "source": [
    "#plot it\n",
    "plt.scatter(X[:,0], X[:,1], s=40, c=y, cmap=plt.cm.Spectral)"
   ]
  },
  {
   "cell_type": "markdown",
   "metadata": {},
   "source": [
    "From the graph, it's easy to see that the division between hobbits and not hobbits is not linear, so logistic regression by itself won't work without some feature engineering. That's why we throw it into a neural net and let it do the engineering for us."
   ]
  },
  {
   "cell_type": "markdown",
   "metadata": {},
   "source": [
    "### Forward propagation\n",
    "First, we start with our inputs and calculate forward to the output neurons using initial guesses for all $\\boldsymbol\\theta$'s. In our example, we'll have one hidden layer with 5 neurons. \n",
    "<img src=\"nn-from-scratch-3-layer-network.png\">"
   ]
  },
  {
   "cell_type": "markdown",
   "metadata": {},
   "source": [
    "For clarity's sake, the bias terms are not usually included in these types of diagrams. The $\\mathbf a$'s are the activation units. $\\mathbf a^{(1)}$ is just $\\mathbf X$, plus a column of one's for the bias variable. Input 1 is \"Height\" and Input 2 is \"Daily Caloric Intake.\" In a single logistic regression, $\\boldsymbol\\theta^{(1)}$ would be $[1 \\times 3]$. But, we're doing 5 logistic regressions, one for each neuron in the hidden layer, so $\\boldsymbol\\theta^{(1)}$ is $[5 \\times 3]$."
   ]
  },
  {
   "cell_type": "code",
   "execution_count": 9,
   "metadata": {
    "collapsed": true
   },
   "outputs": [],
   "source": [
    "n_hl_nodes = 5\n",
    "np.random.seed(37)\n",
    "theta1 = np.random.randn(n_hl_nodes, n+1)"
   ]
  },
  {
   "cell_type": "code",
   "execution_count": 10,
   "metadata": {
    "collapsed": false
   },
   "outputs": [
    {
     "data": {
      "text/plain": [
       "array([[-0.05446361,  0.67430807,  0.34664703],\n",
       "       [-1.30034617,  1.51851188,  0.98982371],\n",
       "       [ 0.2776809 , -0.44858935,  0.96196624],\n",
       "       [-0.82757864,  0.53465707,  1.22838619],\n",
       "       [ 0.51959233, -0.06335482, -0.03479336]])"
      ]
     },
     "execution_count": 10,
     "metadata": {},
     "output_type": "execute_result"
    }
   ],
   "source": [
    "theta1"
   ]
  },
  {
   "cell_type": "code",
   "execution_count": 11,
   "metadata": {
    "collapsed": false,
    "scrolled": true
   },
   "outputs": [
    {
     "data": {
      "text/plain": [
       "(5, 3)"
      ]
     },
     "execution_count": 11,
     "metadata": {},
     "output_type": "execute_result"
    }
   ],
   "source": [
    "theta1.shape"
   ]
  },
  {
   "cell_type": "markdown",
   "metadata": {},
   "source": [
    "**Note:** When initializing $\\boldsymbol\\theta$, it is important to break symmetry. If $\\boldsymbol\\theta$ is symmetric, then some of the nodes in the hidden layer will turn out to be the same and the algorithm will not be as efficient."
   ]
  },
  {
   "cell_type": "markdown",
   "metadata": {},
   "source": [
    "Now, $\\mathbf a^{(2)}$ is just $g(\\boldsymbol{x \\theta}^T)$ (with bias)."
   ]
  },
  {
   "cell_type": "code",
   "execution_count": 12,
   "metadata": {
    "collapsed": true
   },
   "outputs": [],
   "source": [
    "# define our activation function\n",
    "def sigmoid(z):\n",
    "    g = 1 / (1 + np.exp(-z))\n",
    "    return g"
   ]
  },
  {
   "cell_type": "code",
   "execution_count": 13,
   "metadata": {
    "collapsed": true
   },
   "outputs": [],
   "source": [
    "# add bias to X\n",
    "a1 = np.column_stack((np.ones_like(y), X))"
   ]
  },
  {
   "cell_type": "code",
   "execution_count": 14,
   "metadata": {
    "collapsed": false
   },
   "outputs": [
    {
     "data": {
      "text/plain": [
       "array([[ 1.        ,  0.74346118,  0.46465633],\n",
       "       [ 1.        ,  1.65755662, -0.63203157],\n",
       "       [ 1.        , -0.15878875,  0.25584465],\n",
       "       [ 1.        , -1.088752  , -0.39694315],\n",
       "       [ 1.        ,  1.768052  , -0.25443213]])"
      ]
     },
     "execution_count": 14,
     "metadata": {},
     "output_type": "execute_result"
    }
   ],
   "source": [
    "a1[:5]"
   ]
  },
  {
   "cell_type": "code",
   "execution_count": 15,
   "metadata": {
    "collapsed": false
   },
   "outputs": [
    {
     "data": {
      "text/plain": [
       "(200, 3)"
      ]
     },
     "execution_count": 15,
     "metadata": {},
     "output_type": "execute_result"
    }
   ],
   "source": [
    "a1.shape #added a column, check!"
   ]
  },
  {
   "cell_type": "code",
   "execution_count": 16,
   "metadata": {
    "collapsed": false
   },
   "outputs": [],
   "source": [
    "z1 = np.dot(a1, theta1.T)\n",
    "a2 = sigmoid(z1)"
   ]
  },
  {
   "cell_type": "code",
   "execution_count": 17,
   "metadata": {
    "collapsed": false
   },
   "outputs": [
    {
     "data": {
      "text/plain": [
       "array([[ 0.64746846,  0.57163776,  0.59656091,  0.53511598,  0.61214165],\n",
       "       [ 0.69933818,  0.6436114 ,  0.25466698,  0.32789236,  0.6074411 ],\n",
       "       [ 0.48179596,  0.21615295,  0.64451745,  0.35475558,  0.62732328],\n",
       "       [ 0.28369283,  0.03400889,  0.59489474,  0.13041583,  0.64620085],\n",
       "       [ 0.74068847,  0.75632187,  0.31860208,  0.45144895,  0.60262873]])"
      ]
     },
     "execution_count": 17,
     "metadata": {},
     "output_type": "execute_result"
    }
   ],
   "source": [
    "a2[:5]"
   ]
  },
  {
   "cell_type": "code",
   "execution_count": 18,
   "metadata": {
    "collapsed": false,
    "scrolled": false
   },
   "outputs": [
    {
     "data": {
      "text/plain": [
       "(200, 5)"
      ]
     },
     "execution_count": 18,
     "metadata": {},
     "output_type": "execute_result"
    }
   ],
   "source": [
    "a2.shape #shape is (m, n_hl_nodes), check!"
   ]
  },
  {
   "cell_type": "markdown",
   "metadata": {},
   "source": [
    "Essentially, we've turned our 2 feature problem into a 5 feature problem now. The next step is to use $\\mathbf a^{(2)}$ like it's our new $\\mathbf{X}$."
   ]
  },
  {
   "cell_type": "code",
   "execution_count": 19,
   "metadata": {
    "collapsed": false
   },
   "outputs": [],
   "source": [
    "n_classes = 2\n",
    "np.random.seed(42)\n",
    "theta2 = np.random.randn(n_classes, n_hl_nodes+1)"
   ]
  },
  {
   "cell_type": "code",
   "execution_count": 20,
   "metadata": {
    "collapsed": false
   },
   "outputs": [
    {
     "data": {
      "text/plain": [
       "array([[ 0.49671415, -0.1382643 ,  0.64768854,  1.52302986, -0.23415337,\n",
       "        -0.23413696],\n",
       "       [ 1.57921282,  0.76743473, -0.46947439,  0.54256004, -0.46341769,\n",
       "        -0.46572975]])"
      ]
     },
     "execution_count": 20,
     "metadata": {},
     "output_type": "execute_result"
    }
   ],
   "source": [
    "theta2"
   ]
  },
  {
   "cell_type": "code",
   "execution_count": 21,
   "metadata": {
    "collapsed": false
   },
   "outputs": [
    {
     "data": {
      "text/plain": [
       "(2, 6)"
      ]
     },
     "execution_count": 21,
     "metadata": {},
     "output_type": "execute_result"
    }
   ],
   "source": [
    "theta2.shape"
   ]
  },
  {
   "cell_type": "code",
   "execution_count": 22,
   "metadata": {
    "collapsed": true
   },
   "outputs": [],
   "source": [
    "# add bias to a2\n",
    "a2 = np.column_stack((np.ones_like(y), a2))"
   ]
  },
  {
   "cell_type": "code",
   "execution_count": 23,
   "metadata": {
    "collapsed": false,
    "scrolled": true
   },
   "outputs": [
    {
     "data": {
      "text/plain": [
       "array([[ 1.        ,  0.64746846,  0.57163776,  0.59656091,  0.53511598,\n",
       "         0.61214165],\n",
       "       [ 1.        ,  0.69933818,  0.6436114 ,  0.25466698,  0.32789236,\n",
       "         0.6074411 ],\n",
       "       [ 1.        ,  0.48179596,  0.21615295,  0.64451745,  0.35475558,\n",
       "         0.62732328],\n",
       "       [ 1.        ,  0.28369283,  0.03400889,  0.59489474,  0.13041583,\n",
       "         0.64620085],\n",
       "       [ 1.        ,  0.74068847,  0.75632187,  0.31860208,  0.45144895,\n",
       "         0.60262873]])"
      ]
     },
     "execution_count": 23,
     "metadata": {},
     "output_type": "execute_result"
    }
   ],
   "source": [
    "a2[:5]"
   ]
  },
  {
   "cell_type": "code",
   "execution_count": 24,
   "metadata": {
    "collapsed": false,
    "scrolled": true
   },
   "outputs": [
    {
     "data": {
      "text/plain": [
       "(200, 6)"
      ]
     },
     "execution_count": 24,
     "metadata": {},
     "output_type": "execute_result"
    }
   ],
   "source": [
    "a2.shape #added a column, check!"
   ]
  },
  {
   "cell_type": "code",
   "execution_count": 25,
   "metadata": {
    "collapsed": true
   },
   "outputs": [],
   "source": [
    "z2 = np.dot(a2, theta2.T)\n",
    "a3 = sigmoid(z2)"
   ]
  },
  {
   "cell_type": "code",
   "execution_count": 26,
   "metadata": {
    "collapsed": false
   },
   "outputs": [
    {
     "data": {
      "text/plain": [
       "(200, 2)"
      ]
     },
     "execution_count": 26,
     "metadata": {},
     "output_type": "execute_result"
    }
   ],
   "source": [
    "a3.shape #shape is (m, n_classes), check!"
   ]
  },
  {
   "cell_type": "code",
   "execution_count": 27,
   "metadata": {
    "collapsed": false
   },
   "outputs": [
    {
     "data": {
      "text/plain": [
       "array([[ 0.80492916,  0.83178466],\n",
       "       [ 0.72824652,  0.82010629],\n",
       "       [ 0.78947625,  0.85076425],\n",
       "       [ 0.76918631,  0.85098359],\n",
       "       [ 0.75447047,  0.81390075]])"
      ]
     },
     "execution_count": 27,
     "metadata": {},
     "output_type": "execute_result"
    }
   ],
   "source": [
    "a3[:5]"
   ]
  },
  {
   "cell_type": "markdown",
   "metadata": {},
   "source": [
    "$\\mathbf a^{(3)}$ is $ h_{\\theta}(x)$. You might also realize it's not the same size as $y$. What we need to do is make a $y_{big}$ matrix that marks a 1 in the row under the column that corresponds to the class. Say our first observation is a hobbit. The first row gets a 1 in the hobbit column. The second observation is not a hobbit, so the second row gets a 1 in the not hobbit column. Since we're doing a binary problem, this works out to $[y, 1-y]$, but it can be generalized to any number of classes."
   ]
  },
  {
   "cell_type": "code",
   "execution_count": 28,
   "metadata": {
    "collapsed": false
   },
   "outputs": [],
   "source": [
    "y_big = np.column_stack((y, 1-y))"
   ]
  },
  {
   "cell_type": "code",
   "execution_count": 29,
   "metadata": {
    "collapsed": false,
    "scrolled": true
   },
   "outputs": [
    {
     "data": {
      "text/plain": [
       "(200, 2)"
      ]
     },
     "execution_count": 29,
     "metadata": {},
     "output_type": "execute_result"
    }
   ],
   "source": [
    "y_big.shape #same shape as a3, check!"
   ]
  },
  {
   "cell_type": "code",
   "execution_count": 30,
   "metadata": {
    "collapsed": false,
    "scrolled": true
   },
   "outputs": [
    {
     "data": {
      "text/plain": [
       "array([[0, 1],\n",
       "       [1, 0],\n",
       "       [1, 0],\n",
       "       [0, 1],\n",
       "       [1, 0]])"
      ]
     },
     "execution_count": 30,
     "metadata": {},
     "output_type": "execute_result"
    }
   ],
   "source": [
    "y_big[:5]"
   ]
  },
  {
   "cell_type": "markdown",
   "metadata": {},
   "source": [
    "Now to calculate the cost. We need to calculate it per class, which means matrix math won't quite do the trick. We have to loop over the columns. First without regularization."
   ]
  },
  {
   "cell_type": "code",
   "execution_count": 31,
   "metadata": {
    "collapsed": false
   },
   "outputs": [],
   "source": [
    "J = 0\n",
    "for i in range(n_classes):\n",
    "    J += -1 / m * (np.dot(y_big[:,i].T,np.log(a3[:,i])) + np.dot((1 - y_big[:,i]).T, np.log(1 - a3[:,i])))"
   ]
  },
  {
   "cell_type": "code",
   "execution_count": 32,
   "metadata": {
    "collapsed": false
   },
   "outputs": [
    {
     "data": {
      "text/plain": [
       "1.9529544947757143"
      ]
     },
     "execution_count": 32,
     "metadata": {},
     "output_type": "execute_result"
    }
   ],
   "source": [
    "J"
   ]
  },
  {
   "cell_type": "markdown",
   "metadata": {},
   "source": [
    "Now add regularization."
   ]
  },
  {
   "cell_type": "code",
   "execution_count": 33,
   "metadata": {
    "collapsed": true
   },
   "outputs": [],
   "source": [
    "reg_lambda = 0.01 # remember that lambda is a reserved word"
   ]
  },
  {
   "cell_type": "code",
   "execution_count": 34,
   "metadata": {
    "collapsed": false
   },
   "outputs": [],
   "source": [
    "J += reg_lambda / (2 * m) * (np.dot(theta1[:,2:].flatten().T, theta1[:,2:].flatten()) + # remove the bias\n",
    "                             np.dot(theta2[:,2:].flatten().T, theta2[:,2:].flatten()))"
   ]
  },
  {
   "cell_type": "code",
   "execution_count": 35,
   "metadata": {
    "collapsed": false
   },
   "outputs": [
    {
     "data": {
      "text/plain": [
       "1.9531377608620535"
      ]
     },
     "execution_count": 35,
     "metadata": {},
     "output_type": "execute_result"
    }
   ],
   "source": [
    "J"
   ]
  },
  {
   "cell_type": "markdown",
   "metadata": {},
   "source": [
    "### Back propagation\n",
    "We've got our first predictions. Now we need to compare them to our labels and use this to update our parameters. This isn't quite as simple as just applying your solver to the layers. We'll go through these step by step. The first thing to do is figure out how to calculate our residuals, $\\boldsymbol\\delta$. $\\boldsymbol\\delta^{(3)}$ is easy:\n",
    "$$ \\boldsymbol\\delta^{(3)} = \\mathbf a^{(3)} - \\mathbf y_{big} $$"
   ]
  },
  {
   "cell_type": "code",
   "execution_count": 36,
   "metadata": {
    "collapsed": true
   },
   "outputs": [],
   "source": [
    "d3 = a3 - y_big"
   ]
  },
  {
   "cell_type": "code",
   "execution_count": 37,
   "metadata": {
    "collapsed": false
   },
   "outputs": [
    {
     "data": {
      "text/plain": [
       "(200, 2)"
      ]
     },
     "execution_count": 37,
     "metadata": {},
     "output_type": "execute_result"
    }
   ],
   "source": [
    "d3.shape #same shape as a3 and y_big, check!"
   ]
  },
  {
   "cell_type": "code",
   "execution_count": 38,
   "metadata": {
    "collapsed": false
   },
   "outputs": [
    {
     "data": {
      "text/plain": [
       "array([[ 0.80492916, -0.16821534],\n",
       "       [-0.27175348,  0.82010629],\n",
       "       [-0.21052375,  0.85076425],\n",
       "       [ 0.76918631, -0.14901641],\n",
       "       [-0.24552953,  0.81390075]])"
      ]
     },
     "execution_count": 38,
     "metadata": {},
     "output_type": "execute_result"
    }
   ],
   "source": [
    "d3[:5]"
   ]
  },
  {
   "cell_type": "markdown",
   "metadata": {},
   "source": [
    "For the remaining layers, except for the input layer, the residual is calculated as follows:\n",
    "$$ \\boldsymbol\\delta^{(l)} = \\boldsymbol\\delta^{(l+1)} \\boldsymbol\\theta^{(l)} .* g'(\\mathbf z^{(l)}) $$\n",
    "where $l$ is the layer number and I'm using $.*$ to emphasize that this is element-wise multiplication, not matrix multiplication. Turns out that $g'(\\mathbf z^{(l)})$ is just $\\mathbf a^{(l)} .* (1 - \\mathbf a^{(l)})$, so:\n",
    "$$ \\boldsymbol\\delta^{(l)} = \\boldsymbol\\delta^{(l+1)} \\boldsymbol\\theta^{(l)} .* \\mathbf a^{(l)} .* (1 - \\mathbf a^{(l)}) $$\n",
    "\n",
    "There is no residual for the input layer ($l=1$), so we only have $\\boldsymbol\\delta^{(2)}$ left to calculate:\n",
    "$$ \\boldsymbol\\delta^{(2)} = \\boldsymbol\\delta^{(3)} \\boldsymbol\\theta^{(2)} .* \\mathbf a^{(2)} .* (1 - \\mathbf a^{(2)}) $$"
   ]
  },
  {
   "cell_type": "code",
   "execution_count": 39,
   "metadata": {
    "collapsed": false
   },
   "outputs": [],
   "source": [
    "d2 = np.dot(d3, theta2[:,1:]) * a2[:,1:] * (1 - a2[:,1:]) #remember, no bias terms!"
   ]
  },
  {
   "cell_type": "code",
   "execution_count": 40,
   "metadata": {
    "collapsed": false
   },
   "outputs": [
    {
     "data": {
      "text/plain": [
       "(200, 5)"
      ]
     },
     "execution_count": 40,
     "metadata": {},
     "output_type": "execute_result"
    }
   ],
   "source": [
    "d2.shape #same shape as a2 without bias, check!"
   ]
  },
  {
   "cell_type": "code",
   "execution_count": 41,
   "metadata": {
    "collapsed": false,
    "scrolled": true
   },
   "outputs": [
    {
     "data": {
      "text/plain": [
       "array([[-0.05486913,  0.14699824,  0.27308643, -0.02749444, -0.02614534],\n",
       "       [ 0.14023616, -0.1286868 ,  0.00589712, -0.06973226, -0.07590553],\n",
       "       [ 0.17027748, -0.09077526,  0.03229526, -0.07896374, -0.08110947],\n",
       "       [-0.04485103,  0.01866511,  0.26283959, -0.01259399, -0.02530735],\n",
       "       [ 0.12648971, -0.09973018,  0.01468456, -0.07916755, -0.07700558]])"
      ]
     },
     "execution_count": 41,
     "metadata": {},
     "output_type": "execute_result"
    }
   ],
   "source": [
    "d2[:5]"
   ]
  },
  {
   "cell_type": "markdown",
   "metadata": {},
   "source": [
    "Now we need to turn this into an overal gradient that we can feed to a solver. First, without regularization, the equation is:\n",
    "$$\\dfrac{\\partial J(\\Theta)}{\\partial \\Theta_{i,j}^{(l)}} = \\frac{1}{m}\\sum_{t=1}^m a_j^{(t)(l)} {\\delta}_i^{(t)(l+1)}$$\n",
    "\n",
    "Vectorized:\n",
    "$$ \\dfrac{\\partial J(\\boldsymbol\\Theta)}{\\partial \\boldsymbol\\Theta^{(l)}} = \\frac{1}{m} \\sum^l \\mathbf a^{(l)} \\boldsymbol\\delta^{(l+1)} $$"
   ]
  },
  {
   "cell_type": "code",
   "execution_count": 42,
   "metadata": {
    "collapsed": true
   },
   "outputs": [],
   "source": [
    "D1 = np.dot(d2.T, a1)"
   ]
  },
  {
   "cell_type": "code",
   "execution_count": 43,
   "metadata": {
    "collapsed": false
   },
   "outputs": [
    {
     "data": {
      "text/plain": [
       "(5, 3)"
      ]
     },
     "execution_count": 43,
     "metadata": {},
     "output_type": "execute_result"
    }
   ],
   "source": [
    "D1.shape #same shape as theta1, check!"
   ]
  },
  {
   "cell_type": "code",
   "execution_count": 44,
   "metadata": {
    "collapsed": false
   },
   "outputs": [
    {
     "data": {
      "text/plain": [
       "array([[  9.35964512,  13.11345605,  -5.69031915],\n",
       "       [  0.85114796,  -7.52654685,   9.83311069],\n",
       "       [ 24.74662027,   3.16965899,  13.87266761],\n",
       "       [ -9.98438012,  -7.17567142,  -1.08518148],\n",
       "       [-10.58193359,  -7.57139698,  -0.88206638]])"
      ]
     },
     "execution_count": 44,
     "metadata": {},
     "output_type": "execute_result"
    }
   ],
   "source": [
    "D1"
   ]
  },
  {
   "cell_type": "code",
   "execution_count": 45,
   "metadata": {
    "collapsed": false
   },
   "outputs": [],
   "source": [
    "D2 = np.dot(d3.T, a2)"
   ]
  },
  {
   "cell_type": "code",
   "execution_count": 46,
   "metadata": {
    "collapsed": false
   },
   "outputs": [
    {
     "data": {
      "text/plain": [
       "(2, 6)"
      ]
     },
     "execution_count": 46,
     "metadata": {},
     "output_type": "execute_result"
    }
   ],
   "source": [
    "D2.shape #same shape as theta2, check!"
   ]
  },
  {
   "cell_type": "code",
   "execution_count": 47,
   "metadata": {
    "collapsed": false,
    "scrolled": true
   },
   "outputs": [
    {
     "data": {
      "text/plain": [
       "array([[ 57.34865402,  28.62466904,  18.59985951,  47.19066651,\n",
       "         30.83091062,  35.87842329],\n",
       "       [ 67.26123464,  43.60770823,  35.61173322,  24.93102975,\n",
       "         24.80697748,  41.13404715]])"
      ]
     },
     "execution_count": 47,
     "metadata": {},
     "output_type": "execute_result"
    }
   ],
   "source": [
    "D2"
   ]
  },
  {
   "cell_type": "markdown",
   "metadata": {},
   "source": [
    "Adding regularization is a bit tricky to notate again, so I'll say it in words. You want to add up the $\\theta$'s except for the bias. Remember that the bias terms are all in the first columns. So, the easy thing to do is copy the $\\boldsymbol\\theta$'s, set the first columns to zero, multiply by $\\lambda$, then add those to the $\\mathbf D$'s."
   ]
  },
  {
   "cell_type": "code",
   "execution_count": 48,
   "metadata": {
    "collapsed": true
   },
   "outputs": [],
   "source": [
    "reg_theta1 = theta1.copy() * reg_lambda\n",
    "reg_theta1[:,0] = 0\n",
    "reg_theta2 = theta2.copy() * reg_lambda\n",
    "reg_theta2[:,0] = 0"
   ]
  },
  {
   "cell_type": "code",
   "execution_count": 49,
   "metadata": {
    "collapsed": false
   },
   "outputs": [
    {
     "data": {
      "text/plain": [
       "array([[ 0.        ,  0.00674308,  0.00346647],\n",
       "       [ 0.        ,  0.01518512,  0.00989824],\n",
       "       [ 0.        , -0.00448589,  0.00961966],\n",
       "       [ 0.        ,  0.00534657,  0.01228386],\n",
       "       [ 0.        , -0.00063355, -0.00034793]])"
      ]
     },
     "execution_count": 49,
     "metadata": {},
     "output_type": "execute_result"
    }
   ],
   "source": [
    "reg_theta1 #check!"
   ]
  },
  {
   "cell_type": "code",
   "execution_count": 50,
   "metadata": {
    "collapsed": false,
    "scrolled": true
   },
   "outputs": [
    {
     "data": {
      "text/plain": [
       "array([[ 0.        , -0.00138264,  0.00647689,  0.0152303 , -0.00234153,\n",
       "        -0.00234137],\n",
       "       [ 0.        ,  0.00767435, -0.00469474,  0.0054256 , -0.00463418,\n",
       "        -0.0046573 ]])"
      ]
     },
     "execution_count": 50,
     "metadata": {},
     "output_type": "execute_result"
    }
   ],
   "source": [
    "reg_theta2 #check!"
   ]
  },
  {
   "cell_type": "code",
   "execution_count": 51,
   "metadata": {
    "collapsed": true
   },
   "outputs": [],
   "source": [
    "D1 = D1 + reg_theta1\n",
    "D2 = D2 + reg_theta2"
   ]
  },
  {
   "cell_type": "markdown",
   "metadata": {},
   "source": [
    "### Optimizing\n",
    "Now that we have our cost function and our derivative, we can use gradient descent to solve it. Here's what the first update looks like."
   ]
  },
  {
   "cell_type": "code",
   "execution_count": 52,
   "metadata": {
    "collapsed": false
   },
   "outputs": [],
   "source": [
    "alpha = 0.0005\n",
    "theta1 += -alpha * D1\n",
    "theta2 += -alpha * D2"
   ]
  },
  {
   "cell_type": "markdown",
   "metadata": {},
   "source": [
    "That was easy. Now we just keep going until the cost stops changing by more than our tolerance threshold."
   ]
  },
  {
   "cell_type": "code",
   "execution_count": 53,
   "metadata": {
    "collapsed": true
   },
   "outputs": [],
   "source": [
    "# let's collect the forward propagation steps\n",
    "def forward_propagation(a1, theta1, theta2, y_big):\n",
    "    z1 = np.dot(a1, theta1.T)\n",
    "    a2 = sigmoid(z1)\n",
    "    a2 = np.column_stack((np.ones_like(y), a2))\n",
    "    z2 = np.dot(a2, theta2.T)\n",
    "    a3 = sigmoid(z2)\n",
    "    J = 0\n",
    "    for i in range(n_classes):\n",
    "        J += -1 / m * (np.dot(y_big[:,i].T,np.log(a3[:,i])) + np.dot((1 - y_big[:,i]).T, np.log(1 - a3[:,i])))\n",
    "        J += reg_lambda / (2 * m) * (np.dot(theta1[:,2:].flatten().T, theta1[:,2:].flatten()) + # remove the bias\n",
    "                                     np.dot(theta2[:,2:].flatten().T, theta2[:,2:].flatten()))\n",
    "    \n",
    "    return J"
   ]
  },
  {
   "cell_type": "code",
   "execution_count": 54,
   "metadata": {
    "collapsed": true
   },
   "outputs": [],
   "source": [
    "# let's collect the back propagation steps\n",
    "def back_propagation(a3, y_big, theta2, a2, a1, theta1, reg_lambda):\n",
    "    d3 = a3 - y_big\n",
    "    d2 = np.dot(d3, theta2[:,1:]) * a2[:,1:] * (1 - a2[:,1:]) #remember, no bias terms!\n",
    "    D1 = np.dot(d2.T, a1)\n",
    "    D2 = np.dot(d3.T, a2)\n",
    "    reg_theta1 = theta1.copy() * reg_lambda\n",
    "    reg_theta1[:,0] = 0\n",
    "    reg_theta2 = theta2.copy() * reg_lambda\n",
    "    reg_theta2[:,0] = 0\n",
    "    D1 = D1 + reg_theta1\n",
    "    D2 = D2 + reg_theta2\n",
    "    \n",
    "    return D1, D2"
   ]
  },
  {
   "cell_type": "code",
   "execution_count": 55,
   "metadata": {
    "collapsed": true
   },
   "outputs": [],
   "source": [
    "tolerance = 0.0001\n",
    "delta = 1\n",
    "old_J = J"
   ]
  },
  {
   "cell_type": "code",
   "execution_count": 56,
   "metadata": {
    "collapsed": false
   },
   "outputs": [
    {
     "data": {
      "text/plain": [
       "1.9531377608620535"
      ]
     },
     "execution_count": 56,
     "metadata": {},
     "output_type": "execute_result"
    }
   ],
   "source": [
    "J"
   ]
  },
  {
   "cell_type": "code",
   "execution_count": 57,
   "metadata": {
    "collapsed": false,
    "scrolled": true
   },
   "outputs": [
    {
     "name": "stdout",
     "output_type": "stream",
     "text": [
      "1.90152357823\n",
      "1.85184392232\n",
      "1.80437162543\n",
      "1.75919740616\n",
      "1.71641260072\n",
      "1.67610856592\n",
      "1.63837602369\n",
      "1.60330435317\n",
      "1.57098083842\n",
      "1.54148988232\n",
      "1.51491219937\n",
      "1.49132400187\n",
      "1.47079619567\n",
      "1.45339360282\n",
      "1.43917422884\n",
      "1.42818859199\n",
      "1.42047913136\n",
      "1.41607970863\n",
      "1.41501521609\n",
      "1.41730130081\n"
     ]
    }
   ],
   "source": [
    "#again and again and again\n",
    "while delta > tolerance:\n",
    "    #there\n",
    "    J = forward_propagation(a1, theta1, theta2, y_big)\n",
    "    \n",
    "    #and back\n",
    "    D1, D2 = back_propagation(a3, y_big, theta2, a2, a1, theta1, reg_lambda)\n",
    "    \n",
    "    theta1 += -alpha * D1\n",
    "    theta2 += -alpha * D2\n",
    "    \n",
    "    delta = old_J - J\n",
    "    old_J = J\n",
    "    print(J)"
   ]
  },
  {
   "cell_type": "markdown",
   "metadata": {},
   "source": [
    "Well, the cost function isn't quite minimized. This is the down side of gradient descent; it tends to overshoot. We could spend a bit more time trying to debug this (which will probably involve rearranging the loop)...or you get the gist of it and we can move on."
   ]
  },
  {
   "cell_type": "markdown",
   "metadata": {},
   "source": [
    "### Modification\n",
    "We made several choices in our implemetation: the activation function, the cost function, and the solver. Any of these can be changed to suit your purposes. For example, you can use the sum of squares as the cost function to use neural nets for regression. The blog post I referenced used a different function in the final layer than for the hidden layers. The catch is that you have to rederive all the propagation steps appropriately...or find someone who's done that already. ;)"
   ]
  },
  {
   "cell_type": "markdown",
   "metadata": {},
   "source": [
    "## Second breakfast: Prebaked neural nets\n",
    "There are quite a few Python modules that can do neural nets. I'm just going to show scikit learn for consistency. Unless you have a GPU, this should be good enough."
   ]
  },
  {
   "cell_type": "code",
   "execution_count": 58,
   "metadata": {
    "collapsed": true
   },
   "outputs": [],
   "source": [
    "from sklearn.neural_network import MLPClassifier"
   ]
  },
  {
   "cell_type": "markdown",
   "metadata": {},
   "source": [
    "Here's how to do what we did from scratch."
   ]
  },
  {
   "cell_type": "code",
   "execution_count": 59,
   "metadata": {
    "collapsed": true
   },
   "outputs": [],
   "source": [
    "clf = MLPClassifier(solver='sgd', alpha=0.01, hidden_layer_sizes=(5,), #alpha is our lambda!\n",
    "                    activation='logistic', learning_rate_init=0.0005, \n",
    "                    random_state=0) #we used several seeds, so I'll use the first one"
   ]
  },
  {
   "cell_type": "code",
   "execution_count": 60,
   "metadata": {
    "collapsed": false,
    "scrolled": true
   },
   "outputs": [
    {
     "data": {
      "text/plain": [
       "MLPClassifier(activation='logistic', alpha=0.01, batch_size='auto',\n",
       "       beta_1=0.9, beta_2=0.999, early_stopping=False, epsilon=1e-08,\n",
       "       hidden_layer_sizes=(5,), learning_rate='constant',\n",
       "       learning_rate_init=0.0005, max_iter=200, momentum=0.9,\n",
       "       nesterovs_momentum=True, power_t=0.5, random_state=0, shuffle=True,\n",
       "       solver='sgd', tol=0.0001, validation_fraction=0.1, verbose=False,\n",
       "       warm_start=False)"
      ]
     },
     "execution_count": 60,
     "metadata": {},
     "output_type": "execute_result"
    }
   ],
   "source": [
    "# MLPClassifier likes 1D arrays\n",
    "y = y.reshape(m)\n",
    "clf.fit(X,y)"
   ]
  },
  {
   "cell_type": "markdown",
   "metadata": {},
   "source": [
    "Note that there are parameters for the activation function and the solver."
   ]
  },
  {
   "cell_type": "markdown",
   "metadata": {},
   "source": [
    "Let's try a more interesting example using the <a href=\"http://scikit-learn.org/stable/modules/generated/sklearn.datasets.load_digits.html#sklearn.datasets.load_digits\">digits dataset</a>. It consists of pictures of handwritten digits."
   ]
  },
  {
   "cell_type": "code",
   "execution_count": 61,
   "metadata": {
    "collapsed": false,
    "scrolled": true
   },
   "outputs": [
    {
     "data": {
      "text/plain": [
       "<matplotlib.figure.Figure at 0x115444048>"
      ]
     },
     "metadata": {},
     "output_type": "display_data"
    },
    {
     "data": {
      "image/png": "[encoded data removed]",
      "text/plain": [
       "<matplotlib.figure.Figure at 0x1150d63c8>"
      ]
     },
     "metadata": {},
     "output_type": "display_data"
    }
   ],
   "source": [
    "from sklearn.datasets import load_digits\n",
    "X, y = load_digits(return_X_y=True)\n",
    "digits = load_digits()\n",
    "plt.gray() \n",
    "plt.matshow(digits.images[0])\n",
    "plt.show()"
   ]
  },
  {
   "cell_type": "code",
   "execution_count": 62,
   "metadata": {
    "collapsed": true
   },
   "outputs": [],
   "source": [
    "from sklearn.model_selection import train_test_split\n",
    "X_train, X_test, y_train, y_test = train_test_split(X, y, test_size=0.33, random_state=42)"
   ]
  },
  {
   "cell_type": "code",
   "execution_count": 63,
   "metadata": {
    "collapsed": false,
    "scrolled": true
   },
   "outputs": [
    {
     "name": "stderr",
     "output_type": "stream",
     "text": [
      "//anaconda/lib/python3.5/site-packages/sklearn/neural_network/multilayer_perceptron.py:563: ConvergenceWarning: Stochastic Optimizer: Maximum iterations reached and the optimization hasn't converged yet.\n",
      "  % (), ConvergenceWarning)\n"
     ]
    },
    {
     "data": {
      "text/plain": [
       "0.50841750841750843"
      ]
     },
     "execution_count": 63,
     "metadata": {},
     "output_type": "execute_result"
    }
   ],
   "source": [
    "clf.fit(X_train, y_train)\n",
    "clf.score(X_test, y_test)"
   ]
  },
  {
   "cell_type": "markdown",
   "metadata": {},
   "source": [
    "Oops! Let's change some parameters to try to get it to converge. Let's use the default solver (adam), the default activation function (relu), and two hidden layers with 10 nodes each."
   ]
  },
  {
   "cell_type": "code",
   "execution_count": 64,
   "metadata": {
    "collapsed": true
   },
   "outputs": [],
   "source": [
    "clf = MLPClassifier(alpha=0.01, hidden_layer_sizes=(10, 10), # the numbers in the tuple are how many nodes in a layer\n",
    "                    random_state=0)"
   ]
  },
  {
   "cell_type": "code",
   "execution_count": 65,
   "metadata": {
    "collapsed": false,
    "scrolled": true
   },
   "outputs": [
    {
     "data": {
      "text/plain": [
       "0.80639730639730645"
      ]
     },
     "execution_count": 65,
     "metadata": {},
     "output_type": "execute_result"
    }
   ],
   "source": [
    "clf.fit(X_train, y_train)\n",
    "clf.score(X_test, y_test)"
   ]
  },
  {
   "cell_type": "markdown",
   "metadata": {},
   "source": [
    "Not bad!"
   ]
  },
  {
   "cell_type": "markdown",
   "metadata": {},
   "source": [
    "## What are these Convolutional Neural Networks that I keep hearing about?\n",
    "CNNs are appied to images most often. As such, they require an enormous amount of computational power. Don't try them without a GPU. Just don't. The actual neural network part of CNNs is the same as above. There's just a gazillion preprocessing steps that the images go through before they get to the input layer. More on this later, hopefully..."
   ]
  }
 ],
 "metadata": {
  "anaconda-cloud": {},
  "kernelspec": {
   "display_name": "Python 3",
   "language": "python",
   "name": "python3"
  },
  "language_info": {
   "codemirror_mode": {
    "name": "ipython",
    "version": 3
   },
   "file_extension": ".py",
   "mimetype": "text/x-python",
   "name": "python",
   "nbconvert_exporter": "python",
   "pygments_lexer": "ipython3",
   "version": "3.5.2"
  }
 },
 "nbformat": 4,
 "nbformat_minor": 0
}
